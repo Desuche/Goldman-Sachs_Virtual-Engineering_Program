{
 "cells": [
  {
   "cell_type": "code",
   "execution_count": 1,
   "id": "c1078860",
   "metadata": {},
   "outputs": [],
   "source": [
    "import os\n",
    "import shutil\n"
   ]
  },
  {
   "cell_type": "code",
   "execution_count": 2,
   "id": "ef67f548",
   "metadata": {
    "scrolled": false
   },
   "outputs": [
    {
     "name": "stdout",
     "output_type": "stream",
     "text": [
      "['experthead:e10adc3949ba59abbe56e057f20f883e', 'interestec:25f9e794323b453885f5181f1b624d0b', 'ortspoon:d8578edf8458ce06fbc5bb76a58c5ca4', 'reallychel:5f4dcc3b5aa765d61d8327deb882cf99', 'simmson56:96e79218965eb72c92a549dd5a330112', 'bookma:25d55ad283aa400af464c76d713c07ad', 'popularkiya7:e99a18c428cb38d5f260853678922e03', 'eatingcake1994:fcea920f7412b5da7be0cf42b8c93759', 'heroanhart:7c6a180b36896a0a8c02787eeafb0e4c', 'edi_tesla89:6c569aabbf7775ef8fc570e228c16b98', 'liveltekah:3f230640b78d7e71ac5514e57935eb69', 'blikimore:917eb5e9d6d6bca820922a0c6f7cc28b', 'johnwick007:f6a0cb102c62879d397b12b62c092c06', 'flamesbria2001:9b3b269ad0a208090309f091b3aba9db', 'oranolio:16ced47d3fc931483e24933665cded6d', 'spuffyffet:1f5c5683982d7c3814d4d9e6d749b21e', 'moodie:8d763385e0476ae208f21bc63956f748', 'nabox:defebde7b6ab6f24d5824682a16c3ae4', 'bandalls:bdda5f03128bcbdfa78d8934529048cf']\n"
     ]
    }
   ],
   "source": [
    "with open(\"./hashes.txt\", \"r\") as file:\n",
    "    password = file.read()\n",
    "pList = password.split(\"\\n\")\n",
    "print(pList)\n"
   ]
  },
  {
   "cell_type": "code",
   "execution_count": 3,
   "id": "a2c6782c",
   "metadata": {},
   "outputs": [
    {
     "name": "stdout",
     "output_type": "stream",
     "text": [
      "{'e10adc3949ba59abbe56e057f20f883e': 'experthead', '25f9e794323b453885f5181f1b624d0b': 'interestec', 'd8578edf8458ce06fbc5bb76a58c5ca4': 'ortspoon', '5f4dcc3b5aa765d61d8327deb882cf99': 'reallychel', '96e79218965eb72c92a549dd5a330112': 'simmson56', '25d55ad283aa400af464c76d713c07ad': 'bookma', 'e99a18c428cb38d5f260853678922e03': 'popularkiya7', 'fcea920f7412b5da7be0cf42b8c93759': 'eatingcake1994', '7c6a180b36896a0a8c02787eeafb0e4c': 'heroanhart', '6c569aabbf7775ef8fc570e228c16b98': 'edi_tesla89', '3f230640b78d7e71ac5514e57935eb69': 'liveltekah', '917eb5e9d6d6bca820922a0c6f7cc28b': 'blikimore', 'f6a0cb102c62879d397b12b62c092c06': 'johnwick007', '9b3b269ad0a208090309f091b3aba9db': 'flamesbria2001', '16ced47d3fc931483e24933665cded6d': 'oranolio', '1f5c5683982d7c3814d4d9e6d749b21e': 'spuffyffet', '8d763385e0476ae208f21bc63956f748': 'moodie', 'defebde7b6ab6f24d5824682a16c3ae4': 'nabox', 'bdda5f03128bcbdfa78d8934529048cf': 'bandalls'}\n"
     ]
    }
   ],
   "source": [
    "pDict = {}\n",
    "\n",
    "for p in pList:\n",
    "    tuple = p.split(\":\")\n",
    "    pDict[tuple[1]] = tuple[0] \n",
    "    \n",
    "print(pDict)\n"
   ]
  },
  {
   "cell_type": "code",
   "execution_count": 4,
   "id": "e59e347b",
   "metadata": {},
   "outputs": [],
   "source": [
    "with open(\"./h.txt\", \"a\") as file:\n",
    "    for x in pDict:\n",
    "        file.write(x + \"\\n\")\n",
    "        "
   ]
  },
  {
   "cell_type": "markdown",
   "id": "ec65a735",
   "metadata": {},
   "source": [
    "Executing hashcat straight attack using wordlist( as specified in .bat file)."
   ]
  },
  {
   "cell_type": "code",
   "execution_count": 5,
   "id": "7a757daf",
   "metadata": {},
   "outputs": [
    {
     "data": {
      "text/plain": [
       "0"
      ]
     },
     "execution_count": 5,
     "metadata": {},
     "output_type": "execute_result"
    }
   ],
   "source": [
    "os.system(f'cmd /k \"hcat.bat\"')"
   ]
  },
  {
   "cell_type": "code",
   "execution_count": 6,
   "id": "cda42c91",
   "metadata": {},
   "outputs": [],
   "source": [
    "potfile = 'C:\\\\Users\\\\Des Uche\\\\Downloads\\\\hashcat-6.2.6\\\\hashcat-6.2.6\\\\hashcat.potfile'"
   ]
  },
  {
   "cell_type": "code",
   "execution_count": 7,
   "id": "4c995f68",
   "metadata": {},
   "outputs": [
    {
     "data": {
      "text/plain": [
       "'./result.txt'"
      ]
     },
     "execution_count": 7,
     "metadata": {},
     "output_type": "execute_result"
    }
   ],
   "source": [
    "shutil.copyfile(potfile, \"./result.txt\")"
   ]
  },
  {
   "cell_type": "code",
   "execution_count": 8,
   "id": "87b56f74",
   "metadata": {
    "scrolled": true
   },
   "outputs": [
    {
     "name": "stdout",
     "output_type": "stream",
     "text": [
      "96e79218965eb72c92a549dd5a330112:111111\n",
      "e10adc3949ba59abbe56e057f20f883e:123456\n",
      "25f9e794323b453885f5181f1b624d0b:123456789\n",
      "25d55ad283aa400af464c76d713c07ad:12345678\n",
      "fcea920f7412b5da7be0cf42b8c93759:1234567\n",
      "e99a18c428cb38d5f260853678922e03:abc123\n",
      "f6a0cb102c62879d397b12b62c092c06:bluered\n",
      "7c6a180b36896a0a8c02787eeafb0e4c:password1\n",
      "5f4dcc3b5aa765d61d8327deb882cf99:password\n",
      "3f230640b78d7e71ac5514e57935eb69:qazxsw\n",
      "d8578edf8458ce06fbc5bb76a58c5ca4:qwerty\n",
      "\n"
     ]
    }
   ],
   "source": [
    "with open (\"./result.txt\", \"r\") as file:\n",
    "    results = file.read()\n",
    "    print(results)\n",
    "    "
   ]
  },
  {
   "cell_type": "code",
   "execution_count": 9,
   "id": "d867ee26",
   "metadata": {
    "scrolled": true
   },
   "outputs": [
    {
     "name": "stdout",
     "output_type": "stream",
     "text": [
      "['96e79218965eb72c92a549dd5a330112:111111', 'e10adc3949ba59abbe56e057f20f883e:123456', '25f9e794323b453885f5181f1b624d0b:123456789', '25d55ad283aa400af464c76d713c07ad:12345678', 'fcea920f7412b5da7be0cf42b8c93759:1234567', 'e99a18c428cb38d5f260853678922e03:abc123', 'f6a0cb102c62879d397b12b62c092c06:bluered', '7c6a180b36896a0a8c02787eeafb0e4c:password1', '5f4dcc3b5aa765d61d8327deb882cf99:password', '3f230640b78d7e71ac5514e57935eb69:qazxsw', 'd8578edf8458ce06fbc5bb76a58c5ca4:qwerty', '']\n"
     ]
    }
   ],
   "source": [
    "rList = results.split(\"\\n\")\n",
    "print(rList)\n"
   ]
  },
  {
   "cell_type": "code",
   "execution_count": 10,
   "id": "7582e2b1",
   "metadata": {},
   "outputs": [
    {
     "name": "stdout",
     "output_type": "stream",
     "text": [
      "['96e79218965eb72c92a549dd5a330112:111111', 'e10adc3949ba59abbe56e057f20f883e:123456', '25f9e794323b453885f5181f1b624d0b:123456789', '25d55ad283aa400af464c76d713c07ad:12345678', 'fcea920f7412b5da7be0cf42b8c93759:1234567', 'e99a18c428cb38d5f260853678922e03:abc123', 'f6a0cb102c62879d397b12b62c092c06:bluered', '7c6a180b36896a0a8c02787eeafb0e4c:password1', '5f4dcc3b5aa765d61d8327deb882cf99:password', '3f230640b78d7e71ac5514e57935eb69:qazxsw', 'd8578edf8458ce06fbc5bb76a58c5ca4:qwerty']\n"
     ]
    }
   ],
   "source": [
    "if (rList[-1] == \"\"):\n",
    "    rList.pop()\n",
    "    \n",
    "print(rList)"
   ]
  },
  {
   "cell_type": "code",
   "execution_count": 11,
   "id": "db8edf15",
   "metadata": {},
   "outputs": [],
   "source": [
    "rDict = {}\n",
    "\n",
    "for p in rList:\n",
    "    tuple = p.split(\":\")\n",
    "    x = tuple[0]\n",
    "    y = tuple[1]\n",
    "    rDict[pDict[x]] = y\n",
    "    "
   ]
  },
  {
   "cell_type": "code",
   "execution_count": 12,
   "id": "260e9498",
   "metadata": {},
   "outputs": [
    {
     "name": "stdout",
     "output_type": "stream",
     "text": [
      "{'simmson56': '111111', 'experthead': '123456', 'interestec': '123456789', 'bookma': '12345678', 'eatingcake1994': '1234567', 'popularkiya7': 'abc123', 'johnwick007': 'bluered', 'heroanhart': 'password1', 'reallychel': 'password', 'liveltekah': 'qazxsw', 'ortspoon': 'qwerty'}\n"
     ]
    }
   ],
   "source": [
    "print(rDict)"
   ]
  }
 ],
 "metadata": {
  "kernelspec": {
   "display_name": "Python 3",
   "language": "python",
   "name": "python3"
  },
  "language_info": {
   "codemirror_mode": {
    "name": "ipython",
    "version": 3
   },
   "file_extension": ".py",
   "mimetype": "text/x-python",
   "name": "python",
   "nbconvert_exporter": "python",
   "pygments_lexer": "ipython3",
   "version": "3.10.9 (tags/v3.10.9:1dd9be6, Dec  6 2022, 20:01:21) [MSC v.1934 64 bit (AMD64)]"
  },
  "vscode": {
   "interpreter": {
    "hash": "6bf7c946b454da776c3b138bb832b0e3c548e4f7eea2195342edad5440c8cc48"
   }
  }
 },
 "nbformat": 4,
 "nbformat_minor": 5
}
